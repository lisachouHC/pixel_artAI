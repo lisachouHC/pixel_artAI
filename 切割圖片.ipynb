{
  "nbformat": 4,
  "nbformat_minor": 0,
  "metadata": {
    "colab": {
      "provenance": [],
      "name": "切割圖片.ipynb",
      "include_colab_link": true
    },
    "kernelspec": {
      "name": "python3",
      "display_name": "Python 3"
    },
    "language_info": {
      "name": "python"
    }
  },
  "cells": [
    {
      "cell_type": "markdown",
      "metadata": {
        "id": "view-in-github",
        "colab_type": "text"
      },
      "source": [
        "<a href=\"https://colab.research.google.com/github/lisachouHC/pixel_artAI/blob/main/%E5%88%87%E5%89%B2%E5%9C%96%E7%89%87.ipynb\" target=\"_parent\"><img src=\"https://colab.research.google.com/assets/colab-badge.svg\" alt=\"Open In Colab\"/></a>"
      ]
    },
    {
      "cell_type": "code",
      "execution_count": null,
      "metadata": {
        "id": "opoTTyvifgne",
        "outputId": "25967093-0453-4e26-dd58-43b53f56c7c6",
        "colab": {
          "base_uri": "https://localhost:8080/",
          "height": 211
        }
      },
      "outputs": [
        {
          "output_type": "error",
          "ename": "NameError",
          "evalue": "name 'file_paths' is not defined",
          "traceback": [
            "\u001b[0;31m---------------------------------------------------------------------------\u001b[0m",
            "\u001b[0;31mNameError\u001b[0m                                 Traceback (most recent call last)",
            "\u001b[0;32m<ipython-input-1-81a4dcf4b8ac>\u001b[0m in \u001b[0;36m<cell line: 0>\u001b[0;34m()\u001b[0m\n\u001b[1;32m      3\u001b[0m \u001b[0moutput_files\u001b[0m \u001b[0;34m=\u001b[0m \u001b[0;34m[\u001b[0m\u001b[0;34m]\u001b[0m\u001b[0;34m\u001b[0m\u001b[0;34m\u001b[0m\u001b[0m\n\u001b[1;32m      4\u001b[0m \u001b[0;34m\u001b[0m\u001b[0m\n\u001b[0;32m----> 5\u001b[0;31m \u001b[0;32mfor\u001b[0m \u001b[0midx\u001b[0m\u001b[0;34m,\u001b[0m \u001b[0mfile_path\u001b[0m \u001b[0;32min\u001b[0m \u001b[0menumerate\u001b[0m\u001b[0;34m(\u001b[0m\u001b[0mfile_paths\u001b[0m\u001b[0;34m)\u001b[0m\u001b[0;34m:\u001b[0m\u001b[0;34m\u001b[0m\u001b[0;34m\u001b[0m\u001b[0m\n\u001b[0m\u001b[1;32m      6\u001b[0m     \u001b[0mimg\u001b[0m \u001b[0;34m=\u001b[0m \u001b[0mImage\u001b[0m\u001b[0;34m.\u001b[0m\u001b[0mopen\u001b[0m\u001b[0;34m(\u001b[0m\u001b[0mfile_path\u001b[0m\u001b[0;34m)\u001b[0m\u001b[0;34m.\u001b[0m\u001b[0mconvert\u001b[0m\u001b[0;34m(\u001b[0m\u001b[0;34m\"RGB\"\u001b[0m\u001b[0;34m)\u001b[0m  \u001b[0;31m# 轉換為 RGB\u001b[0m\u001b[0;34m\u001b[0m\u001b[0;34m\u001b[0m\u001b[0m\n\u001b[1;32m      7\u001b[0m     \u001b[0mimg_width\u001b[0m\u001b[0;34m,\u001b[0m \u001b[0mimg_height\u001b[0m \u001b[0;34m=\u001b[0m \u001b[0mimg\u001b[0m\u001b[0;34m.\u001b[0m\u001b[0msize\u001b[0m\u001b[0;34m\u001b[0m\u001b[0;34m\u001b[0m\u001b[0m\n",
            "\u001b[0;31mNameError\u001b[0m: name 'file_paths' is not defined"
          ]
        }
      ],
      "source": [
        "from PIL import Image\n",
        "import os\n",
        "\n",
        "# 載入圖片\n",
        "file_paths = [\"/mnt/data/image.png\", \"/mnt/data/image.png\"]  # 兩張圖片的路徑\n",
        "output_dir = \"/mnt/data/\"  # 儲存切割後的圖片\n",
        "\n",
        "# 重新處理：先橫向一刀，再豎向三刀（8 等分）\n",
        "\n",
        "for idx, file_path in enumerate(file_paths):\n",
        "    img = Image.open(file_path).convert(\"RGB\")  # 轉換為 RGB\n",
        "    img_width, img_height = img.size\n",
        "\n",
        "    # 計算切割區塊大小\n",
        "    mid_height = img_height // 2  # 水平一刀（分成上、下兩半）\n",
        "    slice_width = img_width // 4  # 垂直三刀（分成四份）\n",
        "\n",
        "    count = 1\n",
        "    for half in range(2):  # 上、下兩半\n",
        "        for col in range(4):  # 左中右三刀（4 等份）\n",
        "            # 計算切割區域\n",
        "            left = col * slice_width\n",
        "            upper = half * mid_height\n",
        "            right = left + slice_width\n",
        "            lower = upper + mid_height\n",
        "\n",
        "            # 切割並存檔\n",
        "            cropped_img = img.crop((left, upper, right, lower))\n",
        "            output_file = f\"{output_dir}train{count + idx * 8}.jpg\"\n",
        "            cropped_img.save(output_file, \"JPEG\")\n",
        "            output_files.append(output_file)\n",
        "            count += 1\n",
        "\n",
        "# 顯示處理完成的檔案列表\n",
        "output_files\n"
      ]
    }
  ]
}